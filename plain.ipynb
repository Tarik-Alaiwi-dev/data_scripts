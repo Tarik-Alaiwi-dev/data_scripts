{
 "cells": [
  {
   "cell_type": "code",
   "execution_count": 12,
   "id": "e04d080d",
   "metadata": {},
   "outputs": [
    {
     "name": "stdout",
     "output_type": "stream",
     "text": [
      "1. Most common color: #5CEBEB (100.0%)\n"
     ]
    }
   ],
   "source": [
    "from PIL import Image\n",
    "import numpy as np\n",
    "from collections import Counter\n",
    "\n",
    "def get_top_colors(image_path, top_n=2):\n",
    "    \"\"\"\n",
    "    Returns the top colors in an image with their percentages\n",
    "    \n",
    "    Args:\n",
    "        image_path (str): Path to the image file\n",
    "        top_n (int): Number of top colors to return (default: 2)\n",
    "        \n",
    "    Returns:\n",
    "        list: List of tuples containing (hex_code, percentage) \n",
    "              sorted by most common first\n",
    "    \"\"\"\n",
    "    try:\n",
    "        # Open the image\n",
    "        img = Image.open(image_path)\n",
    "        \n",
    "        # Convert to RGB if not already\n",
    "        if img.mode != 'RGB':\n",
    "            img = img.convert('RGB')\n",
    "            \n",
    "        # Convert image to numpy array\n",
    "        img_array = np.array(img)\n",
    "        \n",
    "        # Get total number of pixels\n",
    "        total_pixels = img_array.shape[0] * img_array.shape[1]\n",
    "        \n",
    "        # Reshape the array to be a list of pixels\n",
    "        pixels = img_array.reshape(-1, 3)\n",
    "        \n",
    "        # Convert each pixel to a tuple (for counting)\n",
    "        pixel_tuples = [tuple(pixel) for pixel in pixels]\n",
    "        \n",
    "        # Count color occurrences\n",
    "        color_counts = Counter(pixel_tuples)\n",
    "        \n",
    "        # Get the top colors\n",
    "        top_colors = []\n",
    "        for color, count in color_counts.most_common(top_n):\n",
    "            percentage = (count / total_pixels) * 100\n",
    "            hex_color = '#{:02x}{:02x}{:02x}'.format(*color).upper()\n",
    "            top_colors.append((hex_color, round(percentage, 2)))\n",
    "        \n",
    "        return top_colors\n",
    "    \n",
    "    except Exception as e:\n",
    "        print(f\"Error processing image: {e}\")\n",
    "        return None\n",
    "\n",
    "image_path = r\"D:\\Pobrane\\dane\\niezabudowane\\mapy\\cell_39_copy.png\"\n",
    "top_colors = get_top_colors(image_path)\n",
    "    \n",
    "if top_colors:\n",
    "    if len(top_colors) > 0:\n",
    "        print(f\"1. Most common color: {top_colors[0][0]} ({top_colors[0][1]}%)\")\n",
    "    if len(top_colors) > 1:\n",
    "        print(f\"2. Second most common color: {top_colors[1][0]} ({top_colors[1][1]}%)\")\n",
    "else:\n",
    "    print(\"Could not analyze the image colors.\")"
   ]
  },
  {
   "cell_type": "markdown",
   "id": "0333123a",
   "metadata": {},
   "source": [
    "## tereny zielone (łacznie około 98%):\n",
    "- #70E238\n",
    "- #23C723\n",
    "\n",
    "## lasy (łącznie około 85%):\n",
    "- #3ECF60\n",
    "- #24922F\n",
    "\n",
    "## woda (100%):\n",
    "- #5CEBEB"
   ]
  },
  {
   "cell_type": "code",
   "execution_count": null,
   "id": "9f03a0fe",
   "metadata": {},
   "outputs": [],
   "source": []
  }
 ],
 "metadata": {
  "kernelspec": {
   "display_name": "venv",
   "language": "python",
   "name": "python3"
  },
  "language_info": {
   "codemirror_mode": {
    "name": "ipython",
    "version": 3
   },
   "file_extension": ".py",
   "mimetype": "text/x-python",
   "name": "python",
   "nbconvert_exporter": "python",
   "pygments_lexer": "ipython3",
   "version": "3.12.1"
  }
 },
 "nbformat": 4,
 "nbformat_minor": 5
}
