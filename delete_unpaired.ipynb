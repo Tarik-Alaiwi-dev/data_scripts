{
 "cells": [
  {
   "cell_type": "code",
   "execution_count": 2,
   "id": "a084e405",
   "metadata": {},
   "outputs": [
    {
     "name": "stdout",
     "output_type": "stream",
     "text": [
      "Deleted C:\\Users\\karol\\Downloads\\dane\\niezabudowane\\zdjecia\\cell_17.png (no match in C:\\Users\\karol\\Downloads\\dane\\niezabudowane\\mapy)\n",
      "Deleted C:\\Users\\karol\\Downloads\\dane\\niezabudowane\\zdjecia\\cell_32.png (no match in C:\\Users\\karol\\Downloads\\dane\\niezabudowane\\mapy)\n",
      "Deleted C:\\Users\\karol\\Downloads\\dane\\niezabudowane\\zdjecia\\cell_19.png (no match in C:\\Users\\karol\\Downloads\\dane\\niezabudowane\\mapy)\n",
      "Deleted C:\\Users\\karol\\Downloads\\dane\\niezabudowane\\zdjecia\\cell_48.png (no match in C:\\Users\\karol\\Downloads\\dane\\niezabudowane\\mapy)\n",
      "Deleted C:\\Users\\karol\\Downloads\\dane\\niezabudowane\\zdjecia\\cell_47.png (no match in C:\\Users\\karol\\Downloads\\dane\\niezabudowane\\mapy)\n",
      "Deleted C:\\Users\\karol\\Downloads\\dane\\niezabudowane\\zdjecia\\cell_42.png (no match in C:\\Users\\karol\\Downloads\\dane\\niezabudowane\\mapy)\n",
      "Deleted C:\\Users\\karol\\Downloads\\dane\\niezabudowane\\zdjecia\\cell_7.png (no match in C:\\Users\\karol\\Downloads\\dane\\niezabudowane\\mapy)\n",
      "Deleted C:\\Users\\karol\\Downloads\\dane\\niezabudowane\\zdjecia\\cell_22.png (no match in C:\\Users\\karol\\Downloads\\dane\\niezabudowane\\mapy)\n",
      "Deleted C:\\Users\\karol\\Downloads\\dane\\niezabudowane\\zdjecia\\cell_46.png (no match in C:\\Users\\karol\\Downloads\\dane\\niezabudowane\\mapy)\n",
      "Deleted C:\\Users\\karol\\Downloads\\dane\\niezabudowane\\zdjecia\\cell_49.png (no match in C:\\Users\\karol\\Downloads\\dane\\niezabudowane\\mapy)\n",
      "Deleted C:\\Users\\karol\\Downloads\\dane\\niezabudowane\\zdjecia\\cell_44.png (no match in C:\\Users\\karol\\Downloads\\dane\\niezabudowane\\mapy)\n",
      "Deleted C:\\Users\\karol\\Downloads\\dane\\niezabudowane\\zdjecia\\cell_23.png (no match in C:\\Users\\karol\\Downloads\\dane\\niezabudowane\\mapy)\n",
      "Deleted C:\\Users\\karol\\Downloads\\dane\\niezabudowane\\zdjecia\\cell_26.png (no match in C:\\Users\\karol\\Downloads\\dane\\niezabudowane\\mapy)\n",
      "Deleted C:\\Users\\karol\\Downloads\\dane\\niezabudowane\\zdjecia\\cell_43.png (no match in C:\\Users\\karol\\Downloads\\dane\\niezabudowane\\mapy)\n",
      "Deleted C:\\Users\\karol\\Downloads\\dane\\niezabudowane\\zdjecia\\cell_33.png (no match in C:\\Users\\karol\\Downloads\\dane\\niezabudowane\\mapy)\n",
      "Deleted C:\\Users\\karol\\Downloads\\dane\\niezabudowane\\zdjecia\\cell_37.png (no match in C:\\Users\\karol\\Downloads\\dane\\niezabudowane\\mapy)\n",
      "Deleted C:\\Users\\karol\\Downloads\\dane\\niezabudowane\\zdjecia\\cell_24.png (no match in C:\\Users\\karol\\Downloads\\dane\\niezabudowane\\mapy)\n",
      "Deleted C:\\Users\\karol\\Downloads\\dane\\niezabudowane\\mapy\\cell_9.png (no match in C:\\Users\\karol\\Downloads\\dane\\niezabudowane\\zdjecia)\n",
      "Deleted C:\\Users\\karol\\Downloads\\dane\\niezabudowane\\mapy\\cell_12.png (no match in C:\\Users\\karol\\Downloads\\dane\\niezabudowane\\zdjecia)\n",
      "Deleted C:\\Users\\karol\\Downloads\\dane\\niezabudowane\\mapy\\cell_14.png (no match in C:\\Users\\karol\\Downloads\\dane\\niezabudowane\\zdjecia)\n",
      "Deleted C:\\Users\\karol\\Downloads\\dane\\niezabudowane\\mapy\\cell_8.png (no match in C:\\Users\\karol\\Downloads\\dane\\niezabudowane\\zdjecia)\n",
      "Deleted C:\\Users\\karol\\Downloads\\dane\\niezabudowane\\mapy\\cell_13.png (no match in C:\\Users\\karol\\Downloads\\dane\\niezabudowane\\zdjecia)\n",
      "Cleanup complete!\n",
      "Files deleted from C:\\Users\\karol\\Downloads\\dane\\niezabudowane\\zdjecia: 17\n",
      "Files deleted from C:\\Users\\karol\\Downloads\\dane\\niezabudowane\\mapy: 5\n"
     ]
    }
   ],
   "source": [
    "import os\n",
    "\n",
    "def find_and_delete_unmatched_files(dir1, dir2, prefix=\"cell_\", extension=\".png\"):\n",
    "    # Get lists of files in both directories\n",
    "    files_dir1 = set([f for f in os.listdir(dir1) if f.startswith(prefix) and f.endswith(extension)])\n",
    "    files_dir2 = set([f for f in os.listdir(dir2) if f.startswith(prefix) and f.endswith(extension)])\n",
    "    \n",
    "    # Find files that are in one directory but not the other\n",
    "    only_in_dir1 = files_dir1 - files_dir2\n",
    "    only_in_dir2 = files_dir2 - files_dir1\n",
    "    \n",
    "    # Delete unmatched files\n",
    "    for filename in only_in_dir1:\n",
    "        filepath = os.path.join(dir1, filename)\n",
    "        os.remove(filepath)\n",
    "        print(f\"Deleted {filepath} (no match in {dir2})\")\n",
    "    \n",
    "    for filename in only_in_dir2:\n",
    "        filepath = os.path.join(dir2, filename)\n",
    "        os.remove(filepath)\n",
    "        print(f\"Deleted {filepath} (no match in {dir1})\")\n",
    "    \n",
    "    print(\"Cleanup complete!\")\n",
    "    print(f\"Files deleted from {dir1}: {len(only_in_dir1)}\")\n",
    "    print(f\"Files deleted from {dir2}: {len(only_in_dir2)}\")\n",
    "\n",
    "# Usage\n",
    "zdjecia_dir = r\"C:\\Users\\karol\\Downloads\\dane\\niezabudowane\\zdjecia\"\n",
    "mapy_dir = r\"C:\\Users\\karol\\Downloads\\dane\\niezabudowane\\mapy\"\n",
    "\n",
    "find_and_delete_unmatched_files(zdjecia_dir, mapy_dir)"
   ]
  },
  {
   "cell_type": "code",
   "execution_count": null,
   "id": "dd64ea8d",
   "metadata": {},
   "outputs": [],
   "source": []
  }
 ],
 "metadata": {
  "kernelspec": {
   "display_name": "venv",
   "language": "python",
   "name": "python3"
  },
  "language_info": {
   "codemirror_mode": {
    "name": "ipython",
    "version": 3
   },
   "file_extension": ".py",
   "mimetype": "text/x-python",
   "name": "python",
   "nbconvert_exporter": "python",
   "pygments_lexer": "ipython3",
   "version": "3.12.9"
  }
 },
 "nbformat": 4,
 "nbformat_minor": 5
}
